{
  "nbformat": 4,
  "nbformat_minor": 0,
  "metadata": {
    "colab": {
      "name": "GrandChallengeBasic.ipynb",
      "provenance": []
    },
    "kernelspec": {
      "name": "python3",
      "display_name": "Python 3"
    }
  },
  "cells": [
    {
      "cell_type": "code",
      "metadata": {
        "id": "KeUhGJ3mSjwL"
      },
      "source": [
        "import numpy as np\n",
        "import tensorflow as tf\n",
        "import matplotlib.pyplot as plt\n",
        "import pandas as pd\n",
        "from sklearn.model_selection import train_test_split\n",
        "from sklearn.feature_extraction.text import TfidfVectorizer \n",
        "from sklearn.metrics import accuracy_score\n",
        "from sklearn.naive_bayes import MultinomialNB \n",
        "from tensorflow.keras.layers.experimental.preprocessing import TextVectorization\n",
        "from sklearn.tree import DecisionTreeClassifier\n",
        "import xgboost as xgb\n",
        "from sklearn.model_selection import GridSearchCV\n",
        "from xgboost import XGBClassifier\n",
        "from lightgbm import LGBMClassifier\n"
      ],
      "execution_count": null,
      "outputs": []
    },
    {
      "cell_type": "code",
      "metadata": {
        "id": "V1A2WUD5SrxI",
        "colab": {
          "base_uri": "https://localhost:8080/",
          "height": 648
        },
        "outputId": "daa5b982-1a51-47d6-cb02-71f91e1299b5"
      },
      "source": [
        "df = pd.read_csv('train_data.csv')\n",
        "df1=pd.read_csv('validation_data.csv')\n",
        "\n",
        "df.drop(df.columns[[0]], axis = 1, inplace = True) \n",
        "print(df)\n",
        "df1.drop(df1.columns[[0]], axis = 1, inplace = True) \n",
        "\n",
        "df"
      ],
      "execution_count": null,
      "outputs": [
        {
          "output_type": "stream",
          "text": [
            "                                                   Post            Labels Set\n",
            "0     मेरे देश के हिन्दु बहुत निराले है। कुछ तो पक्क...        hate,offensive\n",
            "1     सरकार हमेशा से किसानों की कमाई को बढ़ाने के लि...           non-hostile\n",
            "2     सुशांत ने जो बिजनेस डील 9 जून को की थी, वो डील...           non-hostile\n",
            "3     @prabhav218 साले जेएनयू छाप कमिने लोग हिन्दुओं...  defamation,offensive\n",
            "4     #unlock4guidelines - अनलॉक-4 के लिए गाइडलाइन्स...           non-hostile\n",
            "...                                                 ...                   ...\n",
            "5723  उदितराज जी हिम्मत  जुटा कर उस नेता के लिए कुछ ...                  hate\n",
            "5724  उप्र: पीएम रिपोर्ट में खुलासा: हार्टअटैक से हु...           non-hostile\n",
            "5725  नौकरी गंवा चुके दोस्त की मदद: नगद के बजाए गिफ्...           non-hostile\n",
            "5726  बंगाल में हिन्दू मरे हैं इसलिए मुझे कोई फर्क न...                  fake\n",
            "5727  रक्षा मंत्री @rajnathsingh ने पूर्व राष्ट्रपति...           non-hostile\n",
            "\n",
            "[5728 rows x 2 columns]\n"
          ],
          "name": "stdout"
        },
        {
          "output_type": "execute_result",
          "data": {
            "text/html": [
              "<div>\n",
              "<style scoped>\n",
              "    .dataframe tbody tr th:only-of-type {\n",
              "        vertical-align: middle;\n",
              "    }\n",
              "\n",
              "    .dataframe tbody tr th {\n",
              "        vertical-align: top;\n",
              "    }\n",
              "\n",
              "    .dataframe thead th {\n",
              "        text-align: right;\n",
              "    }\n",
              "</style>\n",
              "<table border=\"1\" class=\"dataframe\">\n",
              "  <thead>\n",
              "    <tr style=\"text-align: right;\">\n",
              "      <th></th>\n",
              "      <th>Post</th>\n",
              "      <th>Labels Set</th>\n",
              "    </tr>\n",
              "  </thead>\n",
              "  <tbody>\n",
              "    <tr>\n",
              "      <th>0</th>\n",
              "      <td>मेरे देश के हिन्दु बहुत निराले है। कुछ तो पक्क...</td>\n",
              "      <td>hate,offensive</td>\n",
              "    </tr>\n",
              "    <tr>\n",
              "      <th>1</th>\n",
              "      <td>सरकार हमेशा से किसानों की कमाई को बढ़ाने के लि...</td>\n",
              "      <td>non-hostile</td>\n",
              "    </tr>\n",
              "    <tr>\n",
              "      <th>2</th>\n",
              "      <td>सुशांत ने जो बिजनेस डील 9 जून को की थी, वो डील...</td>\n",
              "      <td>non-hostile</td>\n",
              "    </tr>\n",
              "    <tr>\n",
              "      <th>3</th>\n",
              "      <td>@prabhav218 साले जेएनयू छाप कमिने लोग हिन्दुओं...</td>\n",
              "      <td>defamation,offensive</td>\n",
              "    </tr>\n",
              "    <tr>\n",
              "      <th>4</th>\n",
              "      <td>#unlock4guidelines - अनलॉक-4 के लिए गाइडलाइन्स...</td>\n",
              "      <td>non-hostile</td>\n",
              "    </tr>\n",
              "    <tr>\n",
              "      <th>...</th>\n",
              "      <td>...</td>\n",
              "      <td>...</td>\n",
              "    </tr>\n",
              "    <tr>\n",
              "      <th>5723</th>\n",
              "      <td>उदितराज जी हिम्मत  जुटा कर उस नेता के लिए कुछ ...</td>\n",
              "      <td>hate</td>\n",
              "    </tr>\n",
              "    <tr>\n",
              "      <th>5724</th>\n",
              "      <td>उप्र: पीएम रिपोर्ट में खुलासा: हार्टअटैक से हु...</td>\n",
              "      <td>non-hostile</td>\n",
              "    </tr>\n",
              "    <tr>\n",
              "      <th>5725</th>\n",
              "      <td>नौकरी गंवा चुके दोस्त की मदद: नगद के बजाए गिफ्...</td>\n",
              "      <td>non-hostile</td>\n",
              "    </tr>\n",
              "    <tr>\n",
              "      <th>5726</th>\n",
              "      <td>बंगाल में हिन्दू मरे हैं इसलिए मुझे कोई फर्क न...</td>\n",
              "      <td>fake</td>\n",
              "    </tr>\n",
              "    <tr>\n",
              "      <th>5727</th>\n",
              "      <td>रक्षा मंत्री @rajnathsingh ने पूर्व राष्ट्रपति...</td>\n",
              "      <td>non-hostile</td>\n",
              "    </tr>\n",
              "  </tbody>\n",
              "</table>\n",
              "<p>5728 rows × 2 columns</p>\n",
              "</div>"
            ],
            "text/plain": [
              "                                                   Post            Labels Set\n",
              "0     मेरे देश के हिन्दु बहुत निराले है। कुछ तो पक्क...        hate,offensive\n",
              "1     सरकार हमेशा से किसानों की कमाई को बढ़ाने के लि...           non-hostile\n",
              "2     सुशांत ने जो बिजनेस डील 9 जून को की थी, वो डील...           non-hostile\n",
              "3     @prabhav218 साले जेएनयू छाप कमिने लोग हिन्दुओं...  defamation,offensive\n",
              "4     #unlock4guidelines - अनलॉक-4 के लिए गाइडलाइन्स...           non-hostile\n",
              "...                                                 ...                   ...\n",
              "5723  उदितराज जी हिम्मत  जुटा कर उस नेता के लिए कुछ ...                  hate\n",
              "5724  उप्र: पीएम रिपोर्ट में खुलासा: हार्टअटैक से हु...           non-hostile\n",
              "5725  नौकरी गंवा चुके दोस्त की मदद: नगद के बजाए गिफ्...           non-hostile\n",
              "5726  बंगाल में हिन्दू मरे हैं इसलिए मुझे कोई फर्क न...                  fake\n",
              "5727  रक्षा मंत्री @rajnathsingh ने पूर्व राष्ट्रपति...           non-hostile\n",
              "\n",
              "[5728 rows x 2 columns]"
            ]
          },
          "metadata": {
            "tags": []
          },
          "execution_count": 2
        }
      ]
    },
    {
      "cell_type": "code",
      "metadata": {
        "id": "1Ury367Pnnvp"
      },
      "source": [
        "\n",
        "\n",
        "countvect =TfidfVectorizer( )\n",
        "x_counts = countvect.fit(df.Post)\n",
        "\n",
        "# preparing for training set\n",
        "x_train_df = countvect.transform(df.Post)\n",
        "\n",
        "# preparing for test set\n",
        "x_test_df = countvect.transform(df1.Post)\n",
        "\n"
      ],
      "execution_count": null,
      "outputs": []
    },
    {
      "cell_type": "code",
      "metadata": {
        "id": "JcpXyiEVMMTw",
        "colab": {
          "base_uri": "https://localhost:8080/"
        },
        "outputId": "6ae2c724-7005-4f95-abe4-2b908bdcf2a9"
      },
      "source": [
        "clf = LGBMClassifier()\n",
        "clf.fit(x_train_df,df['Labels Set'])"
      ],
      "execution_count": null,
      "outputs": [
        {
          "output_type": "execute_result",
          "data": {
            "text/plain": [
              "LGBMClassifier(boosting_type='gbdt', class_weight=None, colsample_bytree=1.0,\n",
              "               importance_type='split', learning_rate=0.1, max_depth=-1,\n",
              "               min_child_samples=20, min_child_weight=0.001, min_split_gain=0.0,\n",
              "               n_estimators=100, n_jobs=-1, num_leaves=31, objective=None,\n",
              "               random_state=None, reg_alpha=0.0, reg_lambda=0.0, silent=True,\n",
              "               subsample=1.0, subsample_for_bin=200000, subsample_freq=0)"
            ]
          },
          "metadata": {
            "tags": []
          },
          "execution_count": 4
        }
      ]
    },
    {
      "cell_type": "code",
      "metadata": {
        "id": "iNF92o9kuq2P",
        "colab": {
          "base_uri": "https://localhost:8080/"
        },
        "outputId": "91f6b3eb-9912-4f59-fd10-c67a11bfc643"
      },
      "source": [
        "predicted_values_NB = clf.predict(x_test_df)\n",
        "accuracy = round((accuracy_score(df1['Labels Set'] , predicted_values_NB) *100),10)\n",
        "print(\"The accuracy of Decision Tree clasifier is {}%\".format(accuracy))"
      ],
      "execution_count": null,
      "outputs": [
        {
          "output_type": "stream",
          "text": [
            "The accuracy of Decision Tree clasifier is 69.9136868064%\n"
          ],
          "name": "stdout"
        }
      ]
    }
  ]
}